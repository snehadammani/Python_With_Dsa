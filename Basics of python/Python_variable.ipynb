{
 "cells": [
  {
   "cell_type": "markdown",
   "id": "a6abe6e2-d675-480d-8771-7f63bcb12dec",
   "metadata": {},
   "source": [
    "## Variables\n",
    "variables are fundamental elements in programming used to store data that can be refernced and manipulated in a program.\n",
    "In python , varibles are created when you assign a value to them,and they do not need explicit declaration to reserve memory space.\n",
    "The declarartion happens automatically when you assign a value to a varibale\n",
    "\n",
    "Outline:\n",
    ". introduction to variables\n",
    ". declaring ans assigning variables\n",
    ". naming conventions\n",
    ".undestanding variable types\n",
    ".type checking and conversion\n",
    ".dynamic typing"
   ]
  },
  {
   "cell_type": "code",
   "execution_count": 5,
   "id": "30da1440-4412-4312-b9a2-ab1a6389f127",
   "metadata": {},
   "outputs": [],
   "source": [
    "a = 100\n",
    "## created a varible a and assign a value to 100"
   ]
  },
  {
   "cell_type": "code",
   "execution_count": null,
   "id": "042e32c8-bc8d-4982-ab60-61650da58d88",
   "metadata": {},
   "outputs": [],
   "source": [
    "varible - string,float,integer"
   ]
  },
  {
   "cell_type": "code",
   "execution_count": 5,
   "id": "45724850-0111-4bb4-9453-b936eaeb2fe1",
   "metadata": {},
   "outputs": [
    {
     "name": "stdout",
     "output_type": "stream",
     "text": [
      "age: 21\n",
      "helloheight: 5.1\n",
      "name: sneha\n"
     ]
    }
   ],
   "source": [
    "## declaring and assigning varible\n",
    "\n",
    "age = 21\n",
    "height = 5.1\n",
    "name = \"sneha\"\n",
    "is_student = True\n",
    "## printing the variable\n",
    "\n",
    "print(\"age:\",age)\n",
    "print(\"height:\",height)\n",
    "print(\"name:\",name)\n"
   ]
  },
  {
   "cell_type": "code",
   "execution_count": null,
   "id": "f80eba67-73ed-4b6d-94d8-5b3a01640515",
   "metadata": {},
   "outputs": [],
   "source": [
    "## naming convention (most imp)\n",
    "## variable names should be descriptive\n",
    "## they must start with a letter or an \"_\" \n",
    "## contain letter,number and underscores\n",
    "## variables names are case sensitive\n",
    "## valid variable names\n",
    "\n",
    "first_name = \"sneha\"\n",
    "last_name  = \"dammani\""
   ]
  },
  {
   "cell_type": "code",
   "execution_count": 7,
   "id": "5d4d4e10-a6d9-4649-b990-bfc06cf498a0",
   "metadata": {},
   "outputs": [
    {
     "ename": "SyntaxError",
     "evalue": "invalid decimal literal (4057899776.py, line 2)",
     "output_type": "error",
     "traceback": [
      "\u001b[1;36m  Cell \u001b[1;32mIn[7], line 2\u001b[1;36m\u001b[0m\n\u001b[1;33m    2age=30\u001b[0m\n\u001b[1;37m    ^\u001b[0m\n\u001b[1;31mSyntaxError\u001b[0m\u001b[1;31m:\u001b[0m invalid decimal literal\n"
     ]
    }
   ],
   "source": [
    "## invalid varible name\n",
    "2age=30"
   ]
  },
  {
   "cell_type": "code",
   "execution_count": 9,
   "id": "5bd0f895-6aff-4dd1-b164-01534a7413bf",
   "metadata": {},
   "outputs": [
    {
     "ename": "SyntaxError",
     "evalue": "cannot assign to expression here. Maybe you meant '==' instead of '='? (1888360690.py, line 1)",
     "output_type": "error",
     "traceback": [
      "\u001b[1;36m  Cell \u001b[1;32mIn[9], line 1\u001b[1;36m\u001b[0m\n\u001b[1;33m    first-name = \"sneha\"\u001b[0m\n\u001b[1;37m    ^\u001b[0m\n\u001b[1;31mSyntaxError\u001b[0m\u001b[1;31m:\u001b[0m cannot assign to expression here. Maybe you meant '==' instead of '='?\n"
     ]
    }
   ],
   "source": [
    "first-name = \"sneha\"\n",
    "# = this symbol is not being used"
   ]
  },
  {
   "cell_type": "code",
   "execution_count": 11,
   "id": "aa4e87c8-811d-4515-be5b-cd78c5894ade",
   "metadata": {},
   "outputs": [
    {
     "ename": "SyntaxError",
     "evalue": "invalid syntax. Maybe you meant '==' or ':=' instead of '='? (1329184711.py, line 1)",
     "output_type": "error",
     "traceback": [
      "\u001b[1;36m  Cell \u001b[1;32mIn[11], line 1\u001b[1;36m\u001b[0m\n\u001b[1;33m    @name = \"hello\"\u001b[0m\n\u001b[1;37m     ^\u001b[0m\n\u001b[1;31mSyntaxError\u001b[0m\u001b[1;31m:\u001b[0m invalid syntax. Maybe you meant '==' or ':=' instead of '='?\n"
     ]
    }
   ],
   "source": [
    "@name = \"hello\""
   ]
  },
  {
   "cell_type": "code",
   "execution_count": 15,
   "id": "061d1e4c-8bbf-44c3-8365-d542cc8702c3",
   "metadata": {},
   "outputs": [],
   "source": [
    "## case sensitivity\n",
    "name = \"sneha\"\n",
    "Name = \"Sneha\"\n",
    "\n",
    "name = Name"
   ]
  },
  {
   "cell_type": "code",
   "execution_count": 17,
   "id": "c8e5e5e1-9198-4b24-bca9-5095b1e3147e",
   "metadata": {},
   "outputs": [],
   "source": [
    "## understanding variable type \n",
    "## python is dynamicaaly types,types of a varibale is determined at runtime\n",
    "age = 25 # int"
   ]
  },
  {
   "cell_type": "code",
   "execution_count": 19,
   "id": "7f40aa38-ad53-4fb6-9127-6fe94593767c",
   "metadata": {},
   "outputs": [
    {
     "ename": "NameError",
     "evalue": "name 'true' is not defined",
     "output_type": "error",
     "traceback": [
      "\u001b[1;31m---------------------------------------------------------------------------\u001b[0m",
      "\u001b[1;31mNameError\u001b[0m                                 Traceback (most recent call last)",
      "Cell \u001b[1;32mIn[19], line 4\u001b[0m\n\u001b[0;32m      2\u001b[0m \u001b[38;5;66;03m# float\u001b[39;00m\n\u001b[0;32m      3\u001b[0m name \u001b[38;5;241m=\u001b[39m \u001b[38;5;124m\"\u001b[39m\u001b[38;5;124msneha\u001b[39m\u001b[38;5;124m\"\u001b[39m \u001b[38;5;66;03m# str\u001b[39;00m\n\u001b[1;32m----> 4\u001b[0m is_student \u001b[38;5;241m=\u001b[39m true\n",
      "\u001b[1;31mNameError\u001b[0m: name 'true' is not defined"
     ]
    }
   ],
   "source": [
    "height = 4.1\n",
    "# float\n",
    "name = \"sneha\" # str\n",
    "is_student = true # boolean"
   ]
  },
  {
   "cell_type": "code",
   "execution_count": 23,
   "id": "1d25a294-861b-42dd-8bff-4128b46462d0",
   "metadata": {},
   "outputs": [
    {
     "data": {
      "text/plain": [
       "float"
      ]
     },
     "execution_count": 23,
     "metadata": {},
     "output_type": "execute_result"
    }
   ],
   "source": [
    "## type checking and conversion\n",
    "type(height)"
   ]
  },
  {
   "cell_type": "code",
   "execution_count": 27,
   "id": "dcab6ed9-1549-48cc-8209-7d80448b94ce",
   "metadata": {},
   "outputs": [
    {
     "name": "stdout",
     "output_type": "stream",
     "text": [
      "<class 'int'>\n",
      "25\n",
      "<class 'str'>\n"
     ]
    }
   ],
   "source": [
    "## convert 1 datatype to another\n",
    "age = 25\n",
    "print(type(age))\n",
    "\n",
    "age_str = str(age)\n",
    "print(age_str)\n",
    "print(type(age_str))"
   ]
  },
  {
   "cell_type": "markdown",
   "id": "224de980-a115-4395-a8cc-8c3a614e8f61",
   "metadata": {},
   "source": [
    "age = \"25\"\n",
    "print(type(int(age)))"
   ]
  },
  {
   "cell_type": "code",
   "execution_count": 36,
   "id": "60f5684d-78eb-4abd-bfb3-ed824b192fce",
   "metadata": {},
   "outputs": [
    {
     "ename": "ValueError",
     "evalue": "invalid literal for int() with base 10: 'sneha'",
     "output_type": "error",
     "traceback": [
      "\u001b[1;31m---------------------------------------------------------------------------\u001b[0m",
      "\u001b[1;31mValueError\u001b[0m                                Traceback (most recent call last)",
      "Cell \u001b[1;32mIn[36], line 2\u001b[0m\n\u001b[0;32m      1\u001b[0m name \u001b[38;5;241m=\u001b[39m \u001b[38;5;124m\"\u001b[39m\u001b[38;5;124msneha\u001b[39m\u001b[38;5;124m\"\u001b[39m\n\u001b[1;32m----> 2\u001b[0m \u001b[38;5;28mint\u001b[39m(name)\n",
      "\u001b[1;31mValueError\u001b[0m: invalid literal for int() with base 10: 'sneha'"
     ]
    }
   ],
   "source": [
    "name = \"sneha\"\n",
    "int(name)\n",
    "## "
   ]
  },
  {
   "cell_type": "code",
   "execution_count": 42,
   "id": "3dfd1908-80a4-4845-b0f4-4c998cc0574e",
   "metadata": {},
   "outputs": [
    {
     "data": {
      "text/plain": [
       "6"
      ]
     },
     "execution_count": 42,
     "metadata": {},
     "output_type": "execute_result"
    }
   ],
   "source": [
    "height = 6.11\n",
    "type(height)\n",
    "int(height)"
   ]
  },
  {
   "cell_type": "code",
   "execution_count": 44,
   "id": "00f5b435-8dff-4e14-b30c-9ae20eb9944c",
   "metadata": {},
   "outputs": [
    {
     "data": {
      "text/plain": [
       "6.0"
      ]
     },
     "execution_count": 44,
     "metadata": {},
     "output_type": "execute_result"
    }
   ],
   "source": [
    "float(int(height))"
   ]
  },
  {
   "cell_type": "code",
   "execution_count": 46,
   "id": "445cb937-7625-422d-a05e-70a1773af48d",
   "metadata": {},
   "outputs": [],
   "source": [
    "## dyanamic typing \n",
    "## python allows the type of a variable to cahnge as the program executes"
   ]
  },
  {
   "cell_type": "code",
   "execution_count": 48,
   "id": "9ad4eb3b-0f9d-4f25-8025-e50447c6277f",
   "metadata": {},
   "outputs": [
    {
     "name": "stdout",
     "output_type": "stream",
     "text": [
      "10 <class 'int'>\n",
      "hello <class 'str'>\n",
      "3.14 <class 'float'>\n"
     ]
    }
   ],
   "source": [
    "var = 10\n",
    "print(var,type(var))\n",
    "\n",
    "var = \"hello\"\n",
    "print(var,type(var))\n",
    "\n",
    "var = 3.14\n",
    "print(var,type(var))"
   ]
  },
  {
   "cell_type": "code",
   "execution_count": 52,
   "id": "5396caf9-d91d-44e5-8153-47a5fed00ca0",
   "metadata": {},
   "outputs": [
    {
     "name": "stdin",
     "output_type": "stream",
     "text": [
      "what is the age: 45\n"
     ]
    },
    {
     "name": "stdout",
     "output_type": "stream",
     "text": [
      "45 <class 'str'>\n"
     ]
    }
   ],
   "source": [
    "## input\n",
    "\n",
    "age = input(\"what is the age:\")\n",
    "print(age,type(age))"
   ]
  },
  {
   "cell_type": "code",
   "execution_count": null,
   "id": "2be66bff-04ee-4f95-adb5-69cb2273d10c",
   "metadata": {},
   "outputs": [],
   "source": []
  }
 ],
 "metadata": {
  "kernelspec": {
   "display_name": "Python 3 (ipykernel)",
   "language": "python",
   "name": "python3"
  },
  "language_info": {
   "codemirror_mode": {
    "name": "ipython",
    "version": 3
   },
   "file_extension": ".py",
   "mimetype": "text/x-python",
   "name": "python",
   "nbconvert_exporter": "python",
   "pygments_lexer": "ipython3",
   "version": "3.12.4"
  }
 },
 "nbformat": 4,
 "nbformat_minor": 5
}
