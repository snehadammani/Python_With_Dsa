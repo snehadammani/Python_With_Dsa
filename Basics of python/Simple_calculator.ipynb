{
 "cells": [
  {
   "cell_type": "code",
   "execution_count": null,
   "id": "4bbdb8d5-342f-49f1-a5b8-5b64271b2264",
   "metadata": {},
   "outputs": [],
   "source": [
    "num1 = float(input(\"Enter the first number:\"))\n",
    "num2 = float(input(\"Enter the second number:\"))\n",
    "sum = num1+num2\n",
    "diff = num1-num2\n",
    "product = num1*num2\n",
    "quotient = num1/num2\n",
    "\n",
    "print(\"Sum:\",sum)\n",
    "print()"
   ]
  }
 ],
 "metadata": {
  "kernelspec": {
   "display_name": "Python 3 (ipykernel)",
   "language": "python",
   "name": "python3"
  },
  "language_info": {
   "codemirror_mode": {
    "name": "ipython",
    "version": 3
   },
   "file_extension": ".py",
   "mimetype": "text/x-python",
   "name": "python",
   "nbconvert_exporter": "python",
   "pygments_lexer": "ipython3",
   "version": "3.12.4"
  }
 },
 "nbformat": 4,
 "nbformat_minor": 5
}
