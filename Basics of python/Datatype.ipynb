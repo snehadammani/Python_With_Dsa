{
 "cells": [
  {
   "cell_type": "code",
   "execution_count": 42,
   "id": "0302d923-5a39-400b-9c3b-af8379bab69d",
   "metadata": {},
   "outputs": [
    {
     "data": {
      "text/plain": [
       "'Explanation:\\n\\n- Data types ensure that data is stored in an efficient way.\\n- They help in performing correct operations on data.\\n- Proper use of data types can prevent errors and bugs in the program.'"
      ]
     },
     "execution_count": 42,
     "metadata": {},
     "output_type": "execute_result"
    }
   ],
   "source": [
    "## DataTypes\n",
    "#### 1. Definition:\n",
    "\n",
    "'''- Data types are a classification of data which tell the compiler or interpreter how the programmer intends to use the data.\n",
    "- They determine the type of operations that can be performed on the data, the values that the data can take, and the amount of memory needed to store the data.'''\n",
    "\n",
    "#### 2. Importance of Data Types in Programming\n",
    "'''Explanation:\n",
    "\n",
    "- Data types ensure that data is stored in an efficient way.\n",
    "- They help in performing correct operations on data.\n",
    "- Proper use of data types can prevent errors and bugs in the program.'''"
   ]
  },
  {
   "cell_type": "code",
   "execution_count": 40,
   "id": "f8f50a2a-cbf4-4b2b-b4bb-001622a8c07b",
   "metadata": {},
   "outputs": [
    {
     "data": {
      "text/plain": [
       "'1. Introduction to Data Types\\n2. Importance of Data Types in Programming\\n3. Basic Data Types\\n   - Integers\\n   - Floating-point numbers\\n   - Strings\\n   - Booleans\\n4. Advanced Data Types\\n   - Lists\\n   - Tuples\\n   - Sets\\n   - Dictionaries\\n5. Type Conversion\\n6. Practical Examples'"
      ]
     },
     "execution_count": 40,
     "metadata": {},
     "output_type": "execute_result"
    }
   ],
   "source": [
    "## Outline:\n",
    "'''1. Introduction to Data Types\n",
    "2. Importance of Data Types in Programming\n",
    "3. Basic Data Types\n",
    "   - Integers\n",
    "   - Floating-point numbers\n",
    "   - Strings\n",
    "   - Booleans\n",
    "4. Advanced Data Types\n",
    "   - Lists\n",
    "   - Tuples\n",
    "   - Sets\n",
    "   - Dictionaries\n",
    "5. Type Conversion\n",
    "6. Practical Examples'''"
   ]
  },
  {
   "cell_type": "code",
   "execution_count": 4,
   "id": "10a85152-4ad4-4fbe-8982-663c58d44111",
   "metadata": {},
   "outputs": [
    {
     "data": {
      "text/plain": [
       "int"
      ]
     },
     "execution_count": 4,
     "metadata": {},
     "output_type": "execute_result"
    }
   ],
   "source": [
    "## integer\n",
    "age = 19\n",
    "type(age)"
   ]
  },
  {
   "cell_type": "code",
   "execution_count": 6,
   "id": "d2603fdc-61cf-4538-aa02-1dea7ddd591c",
   "metadata": {},
   "outputs": [
    {
     "name": "stdout",
     "output_type": "stream",
     "text": [
      "<class 'float'>\n"
     ]
    }
   ],
   "source": [
    "## floating point datatype\n",
    "height = 5.11\n",
    "print(type(height))"
   ]
  },
  {
   "cell_type": "code",
   "execution_count": 8,
   "id": "397e17de-8230-4c3e-85c1-6204b3214ce9",
   "metadata": {},
   "outputs": [
    {
     "name": "stdout",
     "output_type": "stream",
     "text": [
      "smeha\n",
      "<class 'str'>\n"
     ]
    }
   ],
   "source": [
    "## string datatype \n",
    "\n",
    "name = \"smeha\"\n",
    "print(name)\n",
    "print(type(name))"
   ]
  },
  {
   "cell_type": "code",
   "execution_count": 12,
   "id": "857b3214-6400-4d33-ac13-a8ea211b3ece",
   "metadata": {},
   "outputs": [
    {
     "data": {
      "text/plain": [
       "bool"
      ]
     },
     "execution_count": 12,
     "metadata": {},
     "output_type": "execute_result"
    }
   ],
   "source": [
    "## boolean datatype\n",
    "\n",
    "True\n",
    "type(True)"
   ]
  },
  {
   "cell_type": "code",
   "execution_count": 14,
   "id": "14e6a161-a7fa-43f0-9edd-b7536ef54952",
   "metadata": {},
   "outputs": [
    {
     "data": {
      "text/plain": [
       "bool"
      ]
     },
     "execution_count": 14,
     "metadata": {},
     "output_type": "execute_result"
    }
   ],
   "source": [
    "is_True = True\n",
    "type(is_True)"
   ]
  },
  {
   "cell_type": "code",
   "execution_count": 18,
   "id": "52f1b057-66f5-4eeb-affc-619806aee826",
   "metadata": {},
   "outputs": [
    {
     "data": {
      "text/plain": [
       "False"
      ]
     },
     "execution_count": 18,
     "metadata": {},
     "output_type": "execute_result"
    }
   ],
   "source": [
    "is_true = bool()\n",
    "is_true"
   ]
  },
  {
   "cell_type": "code",
   "execution_count": 20,
   "id": "3860532d-97ee-4d29-a9fd-112164db46b3",
   "metadata": {},
   "outputs": [
    {
     "data": {
      "text/plain": [
       "False"
      ]
     },
     "execution_count": 20,
     "metadata": {},
     "output_type": "execute_result"
    }
   ],
   "source": [
    "bool()"
   ]
  },
  {
   "cell_type": "code",
   "execution_count": 24,
   "id": "4dc7dcbf-839b-4f35-acbd-72d189c900ea",
   "metadata": {},
   "outputs": [
    {
     "data": {
      "text/plain": [
       "bool"
      ]
     },
     "execution_count": 24,
     "metadata": {},
     "output_type": "execute_result"
    }
   ],
   "source": [
    "a = 10\n",
    "b = 10\n",
    "a==b\n",
    "type(a==b)"
   ]
  },
  {
   "cell_type": "code",
   "execution_count": 26,
   "id": "ba1c9c54-70ba-4347-abd7-ae1a60e037cc",
   "metadata": {},
   "outputs": [],
   "source": [
    "## common error"
   ]
  },
  {
   "cell_type": "code",
   "execution_count": 30,
   "id": "8f9adc3d-f108-4572-ac7b-e845cdf2a13f",
   "metadata": {},
   "outputs": [
    {
     "ename": "TypeError",
     "evalue": "can only concatenate str (not \"int\") to str",
     "output_type": "error",
     "traceback": [
      "\u001b[1;31m---------------------------------------------------------------------------\u001b[0m",
      "\u001b[1;31mTypeError\u001b[0m                                 Traceback (most recent call last)",
      "Cell \u001b[1;32mIn[30], line 1\u001b[0m\n\u001b[1;32m----> 1\u001b[0m result \u001b[38;5;241m=\u001b[39m \u001b[38;5;124m\"\u001b[39m\u001b[38;5;124mhello\u001b[39m\u001b[38;5;124m\"\u001b[39m \u001b[38;5;241m+\u001b[39m \u001b[38;5;241m5\u001b[39m\n\u001b[0;32m      2\u001b[0m result\n",
      "\u001b[1;31mTypeError\u001b[0m: can only concatenate str (not \"int\") to str"
     ]
    }
   ],
   "source": [
    "result = \"hello\" + 5\n",
    "result"
   ]
  },
  {
   "cell_type": "code",
   "execution_count": 32,
   "id": "08120753-e1b8-44c1-8ec5-481d1d8a32eb",
   "metadata": {},
   "outputs": [
    {
     "data": {
      "text/plain": [
       "'hello5'"
      ]
     },
     "execution_count": 32,
     "metadata": {},
     "output_type": "execute_result"
    }
   ],
   "source": [
    "result = \"hello\" + '5'\n",
    "result"
   ]
  },
  {
   "cell_type": "code",
   "execution_count": 34,
   "id": "8807919f-0a6c-4560-b8ae-68270dc154f2",
   "metadata": {},
   "outputs": [
    {
     "data": {
      "text/plain": [
       "'hello5'"
      ]
     },
     "execution_count": 34,
     "metadata": {},
     "output_type": "execute_result"
    }
   ],
   "source": [
    "result = \"hello\" + str(5)\n",
    "result"
   ]
  },
  {
   "cell_type": "code",
   "execution_count": null,
   "id": "2ca4eb80-3478-4b8c-b85c-5b2807d410bc",
   "metadata": {},
   "outputs": [],
   "source": [
    "str = \"hello\"\n",
    "str."
   ]
  }
 ],
 "metadata": {
  "kernelspec": {
   "display_name": "Python 3 (ipykernel)",
   "language": "python",
   "name": "python3"
  },
  "language_info": {
   "codemirror_mode": {
    "name": "ipython",
    "version": 3
   },
   "file_extension": ".py",
   "mimetype": "text/x-python",
   "name": "python",
   "nbconvert_exporter": "python",
   "pygments_lexer": "ipython3",
   "version": "3.12.4"
  }
 },
 "nbformat": 4,
 "nbformat_minor": 5
}
