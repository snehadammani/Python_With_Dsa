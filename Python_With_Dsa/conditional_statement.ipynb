{
 "cells": [
  {
   "cell_type": "markdown",
   "id": "1aa7e086-c6a4-4d4b-8b9f-2b789c5e9496",
   "metadata": {},
   "source": [
    "#### Conditional Statements (if, elif, else)\n",
    "Video Outline:\n",
    "1. Introduction to Conditional Statements\n",
    "2. if Statement\n",
    "3. else Statement\n",
    "4. elif Statement\n",
    "5. Nested Conditional Statements\n",
    "6. Practical Examples\n",
    "7. Common Errors and Best Practices"
   ]
  },
  {
   "cell_type": "code",
   "execution_count": 4,
   "id": "4f1c5fe1-0bdc-47dd-8f7c-61a1d6a2b908",
   "metadata": {},
   "outputs": [
    {
     "name": "stdout",
     "output_type": "stream",
     "text": [
      "you are allowed to vote in  the elections\n"
     ]
    }
   ],
   "source": [
    "## if statement\n",
    "age = 20\n",
    "if age>18:\n",
    "    print(\"you are allowed to vote in  the elections\")"
   ]
  },
  {
   "cell_type": "code",
   "execution_count": 6,
   "id": "7054fdbc-7ede-4f96-8218-c76627f2ae6e",
   "metadata": {},
   "outputs": [
    {
     "name": "stdout",
     "output_type": "stream",
     "text": [
      "you are miner\n"
     ]
    }
   ],
   "source": [
    "## else\n",
    "## the else statemnt executes a block of code if the condition in the if statemnt is False\n",
    "\n",
    "\n",
    "\n",
    "age = 16\n",
    "if age>=18:\n",
    "    print(\"you are eligble for voting\")\n",
    "else:\n",
    "    print(\"you are miner\")"
   ]
  },
  {
   "cell_type": "code",
   "execution_count": 8,
   "id": "edbac260-8c06-4030-bec1-947807a3bb9d",
   "metadata": {},
   "outputs": [
    {
     "name": "stdout",
     "output_type": "stream",
     "text": [
      "you are an adult\n"
     ]
    }
   ],
   "source": [
    "## elif \n",
    "## else statemnt allows you to check multiple condition . it stands for \"else if\"\n",
    "\n",
    "age = 20\n",
    "if age<13:\n",
    "    print(\"you are child\")\n",
    "elif age<18:\n",
    "    print(\"you are teenage\")\n",
    "else :\n",
    "    print(\"you are an adult\")\n",
    "    \n",
    "    "
   ]
  },
  {
   "cell_type": "code",
   "execution_count": 14,
   "id": "081208fe-f958-4e43-9c15-a80232c1db39",
   "metadata": {},
   "outputs": [
    {
     "name": "stdin",
     "output_type": "stream",
     "text": [
      "Enter the no: -6\n"
     ]
    },
    {
     "name": "stdout",
     "output_type": "stream",
     "text": [
      "the num is negative\n"
     ]
    }
   ],
   "source": [
    "## nested conditional statemnt\n",
    "##  # You can place one or more if, elif, or else statements inside another if, elif, or else statement to create nested conditional statements.\n",
    "\n",
    "## numbeer even,odd,negative\n",
    "\n",
    "\n",
    "num = int(input(\"Enter the no:\"))\n",
    "\n",
    "if num>0:\n",
    "    print(\"the num is positive\")\n",
    "    if num%2==0:\n",
    "        print(\"the num is even\")\n",
    "    else:\n",
    "        print(\"the no is odd\")\n",
    "else:\n",
    "    print(\"the num is negative\")"
   ]
  },
  {
   "cell_type": "code",
   "execution_count": 18,
   "id": "8f8ac23b-2910-49c9-a530-242338a4bbb4",
   "metadata": {},
   "outputs": [],
   "source": [
    "## usecases\n",
    "## practical example"
   ]
  },
  {
   "cell_type": "code",
   "execution_count": 28,
   "id": "64b42664-15dc-4ab2-bde6-99d2d82a0cc9",
   "metadata": {},
   "outputs": [
    {
     "name": "stdin",
     "output_type": "stream",
     "text": [
      "enter the year 2004\n"
     ]
    },
    {
     "name": "stdout",
     "output_type": "stream",
     "text": [
      "2004 is not a lear year\n"
     ]
    }
   ],
   "source": [
    "## 1)\n",
    "## determine if a year is a leap using nested conditional statement \n",
    "\n",
    "year = int(input(\"enter the year\"))\n",
    "\n",
    "if year %4==0:\n",
    "    if year %100==0:\n",
    "        if year%400==0:\n",
    "            print(year,\"is a leap year\")\n",
    "        else:\n",
    "            print(year,\"is not a leap year\")\n",
    "\n",
    "    else:\n",
    "        print(year,\"is not a lear year\")\n",
    "else:\n",
    "    print(year,\"is not a leap year\")\n",
    "        \n",
    "        "
   ]
  },
  {
   "cell_type": "code",
   "execution_count": 33,
   "id": "22775870-3e34-4973-87f4-cfdee8fd3c43",
   "metadata": {},
   "outputs": [
    {
     "name": "stdin",
     "output_type": "stream",
     "text": [
      "enter the first number: 6\n",
      "enter second number: 3\n",
      "enter operation(+,-,*,/): -\n"
     ]
    },
    {
     "name": "stdout",
     "output_type": "stream",
     "text": [
      "Result 3.0\n"
     ]
    }
   ],
   "source": [
    "## assignemnt \n",
    "## simple calculator program\n",
    "\n",
    "\n",
    "num1 = float(input(\"enter the first number:\"))\n",
    "num2 = float(input(\"enter second number:\"))\n",
    "operation = input(\"enter operation(+,-,*,/):\")\n",
    "\n",
    "\n",
    "#perform the requested opeartion\n",
    "if operation == \"+\":\n",
    "    result = num1+num2\n",
    "elif operation == \"-\":\n",
    "    result = num1-num2\n",
    "elif operation ==  \"*\":\n",
    "    result = num*num2\n",
    "elif operation ==\"/\":\n",
    "    if num%2 !=0:\n",
    "        result = num1/nume\n",
    "    else:\n",
    "        result = \"Error! division by zero\"\n",
    "else:\n",
    "    result = \"invalid operation\"\n",
    "print(\"Result\",result)    \n",
    "    \n",
    "    \n",
    "    \n",
    "    "
   ]
  },
  {
   "cell_type": "code",
   "execution_count": 37,
   "id": "71ecd886-64cd-46f5-8454-6060b1f5f636",
   "metadata": {},
   "outputs": [
    {
     "name": "stdin",
     "output_type": "stream",
     "text": [
      "Enter your age: 8\n",
      "Are you a student? (yes/no): yes\n"
     ]
    },
    {
     "name": "stdout",
     "output_type": "stream",
     "text": [
      "Ticket price: 10\n"
     ]
    }
   ],
   "source": [
    "### Determine the ticket price based on age and whether the person is a student.\n",
    "# Ticket pricing based on age and student status\n",
    "\n",
    "\n",
    "age = int(input(\"Enter your age:\"))\n",
    "is_student = input(\"Are you a student? (yes/no):\").lower()\n",
    "\n",
    "#determine ticket price\n",
    "if age<5:\n",
    "    price = \"Freee\"\n",
    "elif age <=12:\n",
    "    price = \"10\"\n",
    "elif age<=17:\n",
    "    if is_student ==\"yes\":\n",
    "        price = \"12\"\n",
    "    else:\n",
    "        price = \"15\"\n",
    "elif age<=64:\n",
    "    if is_student ==\"yes\":\n",
    "        price = \"18\"\n",
    "    else:\n",
    "        price = \"25\"\n",
    "else:\n",
    "    price = \"20\"\n",
    "\n",
    "print(\"Ticket price:\",price)\n",
    "    "
   ]
  },
  {
   "cell_type": "code",
   "execution_count": null,
   "id": "f6367b9c-96a2-4b42-b1c8-7909c148513b",
   "metadata": {},
   "outputs": [],
   "source": []
  },
  {
   "cell_type": "markdown",
   "id": "92b3b5e1-ceb2-4f42-81cf-9428a307f133",
   "metadata": {},
   "source": [
    "#### Complex Example 3: Employee Bonus Calculation\n",
    "\n",
    "Calculate an employee's bonus based on their performance rating and years of service"
   ]
  },
  {
   "cell_type": "code",
   "execution_count": 42,
   "id": "25c7ca07-c1b5-4103-8f46-d132bc8349a8",
   "metadata": {},
   "outputs": [
    {
     "name": "stdin",
     "output_type": "stream",
     "text": [
      "Enter years of service:  23\n",
      "Enter performance rating (1.0 to 5.0):  23\n",
      "Enter current salary:  1\n"
     ]
    },
    {
     "name": "stdout",
     "output_type": "stream",
     "text": [
      "Bonus Amount: $0.20\n"
     ]
    }
   ],
   "source": [
    "# Employee bonus calculation\n",
    "\n",
    "# Take user input\n",
    "years_of_service = int(input(\"Enter years of service: \"))\n",
    "performance_rating = float(input(\"Enter performance rating (1.0 to 5.0): \"))\n",
    "\n",
    "# Determine bonus percentage\n",
    "if performance_rating >= 4.5:\n",
    "    if years_of_service > 10:\n",
    "        bonus_percentage = 20\n",
    "    elif years_of_service > 5:\n",
    "        bonus_percentage = 15\n",
    "    else:\n",
    "        bonus_percentage = 10\n",
    "elif performance_rating >= 3.5:\n",
    "    if years_of_service > 10:\n",
    "        bonus_percentage = 15\n",
    "    elif years_of_service > 5:\n",
    "        bonus_percentage = 10\n",
    "    else:\n",
    "        bonus_percentage = 5\n",
    "else:\n",
    "    bonus_percentage = 0\n",
    "\n",
    "# Calculate bonus amount\n",
    "salary = float(input(\"Enter current salary: \"))\n",
    "bonus_amount = salary * bonus_percentage / 100\n",
    "\n",
    "print(\"Bonus Amount: ${:.2f}\".format(bonus_amount))\n"
   ]
  },
  {
   "cell_type": "code",
   "execution_count": null,
   "id": "221a3697-c89d-4edc-acd3-63eb6f20c0a7",
   "metadata": {},
   "outputs": [],
   "source": [
    "## Complex Example 4: User Login System\n",
    "A simple user login system that checks the username and password."
   ]
  },
  {
   "cell_type": "markdown",
   "id": "4a9693ab-2c38-407f-9f7a-d22364ba17e5",
   "metadata": {},
   "source": []
  },
  {
   "cell_type": "code",
   "execution_count": 45,
   "id": "1aeb7c90-6055-498a-af33-2586c4ca9a5e",
   "metadata": {},
   "outputs": [
    {
     "name": "stdin",
     "output_type": "stream",
     "text": [
      "Enter username:  sneha\n",
      "Enter password:  sneha%2003\n"
     ]
    },
    {
     "name": "stdout",
     "output_type": "stream",
     "text": [
      "Username not found.\n"
     ]
    }
   ],
   "source": [
    "# User login system\n",
    "\n",
    "# Predefined username and password\n",
    "stored_username = \"admin\"\n",
    "stored_password = \"password123\"\n",
    "\n",
    "# Take user input\n",
    "username = input(\"Enter username: \")\n",
    "password = input(\"Enter password: \")\n",
    "\n",
    "# Check login credentials\n",
    "if username == stored_username:\n",
    "    if password == stored_password:\n",
    "        print(\"Login successful!\")\n",
    "    else:\n",
    "        print(\"Incorrect password.\")\n",
    "else:\n",
    "    print(\"Username not found.\")\n"
   ]
  },
  {
   "cell_type": "markdown",
   "id": "af6f94f9-baa6-44ec-8686-b9a38def3f83",
   "metadata": {},
   "source": []
  }
 ],
 "metadata": {
  "kernelspec": {
   "display_name": "Python 3 (ipykernel)",
   "language": "python",
   "name": "python3"
  },
  "language_info": {
   "codemirror_mode": {
    "name": "ipython",
    "version": 3
   },
   "file_extension": ".py",
   "mimetype": "text/x-python",
   "name": "python",
   "nbconvert_exporter": "python",
   "pygments_lexer": "ipython3",
   "version": "3.12.4"
  }
 },
 "nbformat": 4,
 "nbformat_minor": 5
}
